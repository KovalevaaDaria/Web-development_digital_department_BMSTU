{
 "cells": [
  {
   "cell_type": "markdown",
   "metadata": {},
   "source": [
    "# 1. Синтаксис. Ввод и вывод данных\n",
    "\n",
    "Напишите скрипт, который считывает строку с клавиатуры. Выведите на экран \"привет\", если введенная строка совпадает со строкой \"привет\" или \"здравствуйте\". Если введено что угодно другое, ничего выводить не нужно."
   ]
  },
  {
   "cell_type": "code",
   "execution_count": 3,
   "metadata": {},
   "outputs": [
    {
     "name": "stdout",
     "output_type": "stream",
     "text": [
      "привет\n"
     ]
    }
   ],
   "source": [
    "def input_string():\n",
    "    string = input()\n",
    "    return string\n",
    "\n",
    "\n",
    "def check_string(string):\n",
    "    if string == 'привет' or string == 'здравствуйте':\n",
    "        return 1\n",
    "    else:\n",
    "        return 0\n",
    "\n",
    "\n",
    "if __name__ == '__main__':\n",
    "    value = input_string()\n",
    "    flag = check_string(value)\n",
    "    if flag == 1:\n",
    "        print('привет')"
   ]
  },
  {
   "cell_type": "markdown",
   "metadata": {},
   "source": [
    "# 2. Синтаксис. Сложение четных чисел\n",
    "\n",
    "На вход с клавиатуры подаются числа (по одному). Нужно вывести на экран сумму всех четных чисел. Ввод прекращается, если введена пустая строка (\"\"). При любой ситауации, когда не попадаются четные числа, вывести на экран нужно 0 (например, числа не были введены вообще или были введены только нечетные числа)."
   ]
  },
  {
   "cell_type": "code",
   "execution_count": 10,
   "metadata": {},
   "outputs": [
    {
     "name": "stdout",
     "output_type": "stream",
     "text": [
      "20\n"
     ]
    }
   ],
   "source": [
    "if __name__ == '__main__':\n",
    "    sum = 0\n",
    "    while True:\n",
    "        value = input()\n",
    "        if str(value) == \"\":\n",
    "            break\n",
    "        if int(value) % 2 == 0:\n",
    "            sum += int(value)\n",
    "    print(sum)"
   ]
  },
  {
   "cell_type": "markdown",
   "metadata": {},
   "source": [
    "# 3. Строки. Замена символов\n",
    "\n",
    "С клавиатуры вводится строка. В строке заменить пробелы звездочкой. Если встречается подряд несколько пробелов, то их следует заменить одним знаком \"*\", пробелы в начале и конце строки удалить."
   ]
  },
  {
   "cell_type": "code",
   "execution_count": 5,
   "metadata": {},
   "outputs": [
    {
     "name": "stdout",
     "output_type": "stream",
     "text": [
      "Какая-нибудь*строка*типа*этой*.\n"
     ]
    }
   ],
   "source": [
    "def input_string():\n",
    "    str = input()\n",
    "    input_str = \" \".join(str.split())\n",
    "    input_str = input_str.replace(' ', '*')\n",
    "    return input_str\n",
    "\n",
    "\n",
    "if __name__ == '__main__':\n",
    "    str_1 = input_string()\n",
    "    print(str_1)"
   ]
  },
  {
   "cell_type": "markdown",
   "metadata": {},
   "source": [
    "# 4. Строки. Поиск подстрок\n",
    "\n",
    "С клавиатуры вводится строка, а затем - подстрока. В строке найти все слова, в которых содержится заданная подстрока, и вывести эти слова целиком. Если слова повторяются, вывести все повторения. Регистр слов не должен учитываться. Но вывод слов должен производиться в том же виде, в котором они были поданы в первоначальной строке."
   ]
  },
  {
   "cell_type": "code",
   "execution_count": 6,
   "metadata": {},
   "outputs": [
    {
     "name": "stdout",
     "output_type": "stream",
     "text": [
      "Раз\n",
      "два\n"
     ]
    }
   ],
   "source": [
    "if __name__ == '__main__':\n",
    "    string = input()\n",
    "    substring = input()\n",
    "\n",
    "    words = string.split()\n",
    "    \n",
    "    foundwords = []\n",
    "\n",
    "    for word in words:\n",
    "        if substring.lower() in word.lower():\n",
    "            foundwords.append(word)\n",
    "\n",
    "    if foundwords:\n",
    "        for word in foundwords:\n",
    "            print(word)"
   ]
  },
  {
   "cell_type": "markdown",
   "metadata": {},
   "source": [
    "# 5. Типы данных. Тест\n",
    "\n",
    "Перечислите изменяемые типы данных в Python."
   ]
  },
  {
   "cell_type": "code",
   "execution_count": 7,
   "metadata": {},
   "outputs": [],
   "source": [
    "\t# Список (list) - da\n",
    "\t# Строка (str) \n",
    "\t# Кортеж (tuple) \n",
    "\t# Словарь (dict) - da\n",
    "\t# Множество (set) - da\n",
    "\t# Целое число (int) "
   ]
  },
  {
   "cell_type": "markdown",
   "metadata": {},
   "source": [
    "# 6. Коллекции. Списки\n",
    "\n",
    "С клавиатуры подается 5 чисел, разделенных концом строки. Нужно вывести их на экран от большего к меньшему, также разделяя их концом строки."
   ]
  },
  {
   "cell_type": "code",
   "execution_count": 8,
   "metadata": {},
   "outputs": [
    {
     "name": "stdout",
     "output_type": "stream",
     "text": [
      "45\n",
      "12\n",
      "10\n",
      "9\n",
      "1\n"
     ]
    }
   ],
   "source": [
    "def input_number():\n",
    "    list = []\n",
    "    for numbers in range(1, 6):\n",
    "        numbers = input()\n",
    "        if str(numbers) == \"\":\n",
    "            break\n",
    "        if int(numbers) > 0:\n",
    "            list.append(int(numbers))\n",
    "    return list\n",
    "\n",
    "\n",
    "if __name__ == '__main__':\n",
    "    new_list = input_number()\n",
    "    numbers = list(map(int, new_list))\n",
    "    numbers.sort(reverse=True)\n",
    "    for number in numbers:\n",
    "        print(number)"
   ]
  },
  {
   "cell_type": "markdown",
   "metadata": {},
   "source": [
    "# 7. Коллекции. Множества\n",
    "\n",
    "С клавиатуры вводится строка, содержащая произвольное количество слов через запятую и пробел. Слова могут повторяться. Нужно вывести на экран все слова в алфавитном порядке по одному разу, также через пробел и запятую."
   ]
  },
  {
   "cell_type": "code",
   "execution_count": 9,
   "metadata": {},
   "outputs": [
    {
     "name": "stdout",
     "output_type": "stream",
     "text": [
      "воробей, джек, капитан\n"
     ]
    }
   ],
   "source": [
    "def inputstring():\n",
    "    str = input()\n",
    "    str = str.lower()\n",
    "    words = str.split(\", \")\n",
    "    words = list(set(words))\n",
    "    sortedwords = sorted(words)\n",
    "    return ', '.join(sortedwords)\n",
    "\n",
    "\n",
    "if __name__ == '__main__':\n",
    "    str1 = inputstring()\n",
    "    print(str1)"
   ]
  }
 ],
 "metadata": {
  "kernelspec": {
   "display_name": "Python 3",
   "language": "python",
   "name": "python3"
  },
  "language_info": {
   "codemirror_mode": {
    "name": "ipython",
    "version": 3
   },
   "file_extension": ".py",
   "mimetype": "text/x-python",
   "name": "python",
   "nbconvert_exporter": "python",
   "pygments_lexer": "ipython3",
   "version": "3.11.5"
  }
 },
 "nbformat": 4,
 "nbformat_minor": 2
}
